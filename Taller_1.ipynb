{
 "cells": [
  {
   "cell_type": "code",
   "execution_count": 2,
   "id": "1f7cb712-8b79-4299-9538-8259246d23bf",
   "metadata": {},
   "outputs": [
    {
     "name": "stdout",
     "output_type": "stream",
     "text": [
      "La probabilidad que, el pasajero 100 se siente en el asiento originalmente asignado, es del: 0.50%\n"
     ]
    }
   ],
   "source": [
    "#Taller 1\n",
    "#Ejercicio 1\n",
    "#Descargar librerias\n",
    "import random\n",
    "\n",
    "def simulador_embarque():\n",
    "\n",
    "    #Lista de asientos de pasajeros\n",
    "    asientos = list(range(1,101))\n",
    "\n",
    "    #El primer pasajero elige su asiento\n",
    "    asiento_elegido = random.choice(asientos)\n",
    "    asientos.remove(asiento_elegido)\n",
    "\n",
    "    #Pasajeros del 2 al 99 intentan sentarse en el asiento asignado\n",
    "    # Si, el  asiento del pasajero está ocupado, él debe eligir uno al azar de los asientos disponibles\n",
    "    for pasajero in range(2,100):\n",
    "        asiento_asignado = pasajero\n",
    "        if asiento_asignado in asientos:\n",
    "            asientos.remove(asiento_asignado)\n",
    "        else:\n",
    "            asiento_elegido = random.choice(asientos)\n",
    "            asientos.remove(asiento_elegido)\n",
    "\n",
    "    #Verificar, si el pasajero 100 puede sentarse en su asiento originalmente asignado -100-\n",
    "    return 100 in asientos\n",
    "\n",
    "#Calcular la probabilidad \n",
    "\n",
    "def calcular_probabilidad(iteraciones=100000):\n",
    "    exitos = 0\n",
    "\n",
    "    for _ in range(iteraciones):\n",
    "        if simulador_embarque():\n",
    "            exitos += 1\n",
    "\n",
    "   #Calcular la probabiliidad\n",
    "\n",
    "    probabilidad = exitos/iteraciones\n",
    "    print(f\"La probabilidad que, el pasajero 100 se siente en el asiento originalmente asignado, es del: {probabilidad:.2f}%\")\n",
    "\n",
    "# Ejecutar la simulación con 100,000 iteraciones\n",
    "calcular_probabilidad()"
   ]
  },
  {
   "cell_type": "code",
   "execution_count": 11,
   "id": "b6210ec5-cfe1-408c-9004-5f869f4b047d",
   "metadata": {},
   "outputs": [
    {
     "name": "stdin",
     "output_type": "stream",
     "text": [
      "Numero de iteraciones:  9000\n"
     ]
    },
    {
     "name": "stdout",
     "output_type": "stream",
     "text": [
      "La estimación de pi después de 9000 iteraciones: 3.1369\n"
     ]
    }
   ],
   "source": [
    "#Ejercicio 2\n",
    "#Crear función para estimar pi\n",
    "\n",
    "\n",
    "def estimar_pi():\n",
    "    #Solicitar al usuario el numero de iteraciones\n",
    "    iteraciones = int(input(\"Numero de iteraciones: \"))\n",
    "    puntos_dentro_circulo = 0\n",
    "           \n",
    "    for _ in range(iteraciones):\n",
    "        #Coordenadas aleatorias dentro del cuadrado\n",
    "        x = random.uniform(-0.5, 0.5)\n",
    "        y = random.uniform(-0.5, 0.5)\n",
    "\n",
    "        # Verificar si el punto está dentro del círculo\n",
    "        if x**2 + y**2  <= 0.5**2:\n",
    "            puntos_dentro_circulo += 1\n",
    "\n",
    "    #Calcular la estimación de pi\n",
    "    pi_estimado = (puntos_dentro_circulo/iteraciones)*4\n",
    "    print(f\"La estimación de pi después de {iteraciones} iteraciones: {pi_estimado:.4f}\")\n",
    "\n",
    "#Ejecutar segpún el número de iteraciones\n",
    "estimar_pi()"
   ]
  },
  {
   "cell_type": "code",
   "execution_count": null,
   "id": "93b7e859-f249-478a-8e20-cf002d2c745e",
   "metadata": {},
   "outputs": [],
   "source": []
  },
  {
   "cell_type": "code",
   "execution_count": null,
   "id": "d06402cf-cfc3-4736-98e4-c5fe664d1f26",
   "metadata": {},
   "outputs": [],
   "source": []
  }
 ],
 "metadata": {
  "kernelspec": {
   "display_name": "Python 3 (ipykernel)",
   "language": "python",
   "name": "python3"
  },
  "language_info": {
   "codemirror_mode": {
    "name": "ipython",
    "version": 3
   },
   "file_extension": ".py",
   "mimetype": "text/x-python",
   "name": "python",
   "nbconvert_exporter": "python",
   "pygments_lexer": "ipython3",
   "version": "3.12.7"
  }
 },
 "nbformat": 4,
 "nbformat_minor": 5
}
